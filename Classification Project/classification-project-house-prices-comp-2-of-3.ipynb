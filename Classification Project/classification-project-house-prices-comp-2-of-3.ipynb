{
 "cells": [
  {
   "cell_type": "markdown",
   "id": "291c32ef",
   "metadata": {
    "papermill": {
     "duration": 0.006546,
     "end_time": "2023-06-01T21:41:22.494396",
     "exception": false,
     "start_time": "2023-06-01T21:41:22.487850",
     "status": "completed"
    },
    "tags": []
   },
   "source": [
    "# House Prices Classification\n",
    "\n",
    "This project is based on the popular \"House Prices\" competition from Kaggle. The goal of this competition is to predict the sales price of each house. However, in this specific project, we are going to do something a bit different. Instead of predicting the actual sales price, we will classify houses into one of ten different price groups. The groups are created by dividing the price range of the houses into ten equal parts, this is being done because of 1) to explore the concept of \"Classification\" in ML, 2) for us to make a better linear regression. The EDA was done in part 1 of 3, and the linear regression is being done in part 3.\n",
    "\n",
    "The data set we are using contains 79 explanatory variables that describe almost every aspect of residential homes in Ames, Iowa. Our task is to leverage this data to build a model that can accurately classify new houses into the correct price group.\n",
    "\n",
    "This project will include data preprocessing, feature selection, model selection, and model evaluation. We will be using Python and various popular data science libraries, including pandas, numpy, scikit-learn, and more.\n",
    "\n",
    "Let's get started!\n"
   ]
  },
  {
   "cell_type": "markdown",
   "id": "3f8d2c35",
   "metadata": {
    "papermill": {
     "duration": 0.005575,
     "end_time": "2023-06-01T21:41:22.505964",
     "exception": false,
     "start_time": "2023-06-01T21:41:22.500389",
     "status": "completed"
    },
    "tags": []
   },
   "source": [
    "We start off by importing the necessary packages and modules for our task. This includes packages for data handling and manipulation (`numpy` and `pandas`), machine learning model building and evaluation (`sklearn`), and data pre-processing (`sklearn.preprocessing`). Also, some packages for visualization (`seaborn` and `matplotlib`)."
   ]
  },
  {
   "cell_type": "code",
   "execution_count": 1,
   "id": "a6135800",
   "metadata": {
    "execution": {
     "iopub.execute_input": "2023-06-01T21:41:22.519881Z",
     "iopub.status.busy": "2023-06-01T21:41:22.519371Z",
     "iopub.status.idle": "2023-06-01T21:41:24.735973Z",
     "shell.execute_reply": "2023-06-01T21:41:24.734873Z"
    },
    "papermill": {
     "duration": 2.226875,
     "end_time": "2023-06-01T21:41:24.738613",
     "exception": false,
     "start_time": "2023-06-01T21:41:22.511738",
     "status": "completed"
    },
    "tags": []
   },
   "outputs": [],
   "source": [
    "import numpy as np\n",
    "import pandas as pd\n",
    "import seaborn as sns\n",
    "import matplotlib.pyplot as plt\n",
    "from sklearn.model_selection import train_test_split\n",
    "from sklearn.ensemble import RandomForestClassifier\n",
    "from sklearn.metrics import confusion_matrix, classification_report\n",
    "from sklearn.preprocessing import StandardScaler\n",
    "from sklearn.pipeline import Pipeline\n",
    "from sklearn.model_selection import cross_val_score\n"
   ]
  },
  {
   "cell_type": "markdown",
   "id": "d4e47412",
   "metadata": {
    "papermill": {
     "duration": 0.005523,
     "end_time": "2023-06-01T21:41:24.750228",
     "exception": false,
     "start_time": "2023-06-01T21:41:24.744705",
     "status": "completed"
    },
    "tags": []
   },
   "source": [
    "Next, we load our dataset and perform some basic pre-processing. For simplicity, we only select numeric columns for this analysis and drop any rows with missing data. Pre-processing is an important step as it prepares our data for the machine learning model. There are more sophisticated pre-processing techniques available if needed, this is a simple example.\n"
   ]
  },
  {
   "cell_type": "code",
   "execution_count": 2,
   "id": "6b743081",
   "metadata": {
    "execution": {
     "iopub.execute_input": "2023-06-01T21:41:24.763777Z",
     "iopub.status.busy": "2023-06-01T21:41:24.763400Z",
     "iopub.status.idle": "2023-06-01T21:41:24.821072Z",
     "shell.execute_reply": "2023-06-01T21:41:24.819996Z"
    },
    "papermill": {
     "duration": 0.067909,
     "end_time": "2023-06-01T21:41:24.823898",
     "exception": false,
     "start_time": "2023-06-01T21:41:24.755989",
     "status": "completed"
    },
    "tags": []
   },
   "outputs": [],
   "source": [
    "# Load the dataset\n",
    "df = pd.read_csv('/kaggle/input/house-prices-advanced-regression-techniques/train.csv')"
   ]
  },
  {
   "cell_type": "code",
   "execution_count": 3,
   "id": "2c75662f",
   "metadata": {
    "execution": {
     "iopub.execute_input": "2023-06-01T21:41:24.837693Z",
     "iopub.status.busy": "2023-06-01T21:41:24.837275Z",
     "iopub.status.idle": "2023-06-01T21:41:24.849750Z",
     "shell.execute_reply": "2023-06-01T21:41:24.848704Z"
    },
    "papermill": {
     "duration": 0.022534,
     "end_time": "2023-06-01T21:41:24.852408",
     "exception": false,
     "start_time": "2023-06-01T21:41:24.829874",
     "status": "completed"
    },
    "tags": []
   },
   "outputs": [],
   "source": [
    "# For simplicity, we will use only numeric columns\n",
    "df = df.select_dtypes(include=[np.number])\n",
    "df = df.dropna()"
   ]
  },
  {
   "cell_type": "markdown",
   "id": "5a8649a4",
   "metadata": {
    "papermill": {
     "duration": 0.007163,
     "end_time": "2023-06-01T21:41:24.865492",
     "exception": false,
     "start_time": "2023-06-01T21:41:24.858329",
     "status": "completed"
    },
    "tags": []
   },
   "source": [
    "Our task is to predict the price class of a house, so we need to create these classes. We decide to create 10 classes based on the house prices. We use pandas `qcut` function, which divides the data into equal-sized bins. This ensures each class has roughly the same number of houses.\n"
   ]
  },
  {
   "cell_type": "code",
   "execution_count": 4,
   "id": "579f9a7b",
   "metadata": {
    "execution": {
     "iopub.execute_input": "2023-06-01T21:41:24.879002Z",
     "iopub.status.busy": "2023-06-01T21:41:24.878591Z",
     "iopub.status.idle": "2023-06-01T21:41:24.896241Z",
     "shell.execute_reply": "2023-06-01T21:41:24.894916Z"
    },
    "papermill": {
     "duration": 0.027678,
     "end_time": "2023-06-01T21:41:24.898997",
     "exception": false,
     "start_time": "2023-06-01T21:41:24.871319",
     "status": "completed"
    },
    "tags": []
   },
   "outputs": [],
   "source": [
    "# Create price categories (10 equal-sized bins)\n",
    "df['SalePrice'] = pd.qcut(df['SalePrice'], q=10, labels=False)"
   ]
  },
  {
   "cell_type": "markdown",
   "id": "08fa9ffe",
   "metadata": {
    "papermill": {
     "duration": 0.005669,
     "end_time": "2023-06-01T21:41:24.910615",
     "exception": false,
     "start_time": "2023-06-01T21:41:24.904946",
     "status": "completed"
    },
    "tags": []
   },
   "source": [
    "We split our data into a training set and a testing set. The training set is used to train our model, while the testing set is used to evaluate the model's performance. This helps us understand how well our model can generalize to new, unseen data."
   ]
  },
  {
   "cell_type": "code",
   "execution_count": 5,
   "id": "f09a8d84",
   "metadata": {
    "execution": {
     "iopub.execute_input": "2023-06-01T21:41:24.924118Z",
     "iopub.status.busy": "2023-06-01T21:41:24.923692Z",
     "iopub.status.idle": "2023-06-01T21:41:24.937176Z",
     "shell.execute_reply": "2023-06-01T21:41:24.936011Z"
    },
    "papermill": {
     "duration": 0.023325,
     "end_time": "2023-06-01T21:41:24.939763",
     "exception": false,
     "start_time": "2023-06-01T21:41:24.916438",
     "status": "completed"
    },
    "tags": []
   },
   "outputs": [],
   "source": [
    "# Define the predictors and target\n",
    "X = df.drop('SalePrice', axis=1)\n",
    "y = df['SalePrice']\n",
    "\n",
    "# Split the data into train and test sets\n",
    "X_train, X_test, y_train, y_test = train_test_split(X, y, test_size=0.2, random_state=42)"
   ]
  },
  {
   "cell_type": "markdown",
   "id": "9221ba60",
   "metadata": {
    "papermill": {
     "duration": 0.00558,
     "end_time": "2023-06-01T21:41:24.951285",
     "exception": false,
     "start_time": "2023-06-01T21:41:24.945705",
     "status": "completed"
    },
    "tags": []
   },
   "source": [
    "We use the RandomForestClassifier as our model. This is an ensemble learning method that operates by constructing multiple decision trees at training time and outputting the class that is the mode of the classes of the individual trees. To make our process more efficient and to prevent data leakage, we use a Pipeline. This allows us to bundle our pre-processing (scaling the data) and model training steps together."
   ]
  },
  {
   "cell_type": "code",
   "execution_count": 6,
   "id": "bc121953",
   "metadata": {
    "execution": {
     "iopub.execute_input": "2023-06-01T21:41:24.964933Z",
     "iopub.status.busy": "2023-06-01T21:41:24.964292Z",
     "iopub.status.idle": "2023-06-01T21:41:25.418332Z",
     "shell.execute_reply": "2023-06-01T21:41:25.417303Z"
    },
    "papermill": {
     "duration": 0.464141,
     "end_time": "2023-06-01T21:41:25.421168",
     "exception": false,
     "start_time": "2023-06-01T21:41:24.957027",
     "status": "completed"
    },
    "tags": []
   },
   "outputs": [],
   "source": [
    "# Define the steps in the pipeline\n",
    "steps = [('scaler', StandardScaler()),\n",
    "         ('rf', RandomForestClassifier())]\n",
    "\n",
    "# Create the pipeline: pipeline\n",
    "pipeline = Pipeline(steps)\n",
    "\n",
    "# Fit the pipeline to the training set: rf_scaled\n",
    "rf_scaled = pipeline.fit(X_train, y_train)"
   ]
  },
  {
   "cell_type": "markdown",
   "id": "f539b197",
   "metadata": {
    "papermill": {
     "duration": 0.005597,
     "end_time": "2023-06-01T21:41:25.432717",
     "exception": false,
     "start_time": "2023-06-01T21:41:25.427120",
     "status": "completed"
    },
    "tags": []
   },
   "source": [
    "Finally, we evaluate the performance of our model on the test set. We compute the accuracy of the model (the proportion of correct predictions) and use cross-validation to get a better estimate of the model's performance. Cross-validation is a resampling procedure used to evaluate machine learning models on a limited data sample. The procedure has a single parameter called k that refers to the number of groups that a given data sample is to be split into. Additionally, we also print a classification report which provides a more detailed analysis of the performance, including precision, recall, and f-score."
   ]
  },
  {
   "cell_type": "code",
   "execution_count": 7,
   "id": "fe56ef5d",
   "metadata": {
    "execution": {
     "iopub.execute_input": "2023-06-01T21:41:25.446092Z",
     "iopub.status.busy": "2023-06-01T21:41:25.445665Z",
     "iopub.status.idle": "2023-06-01T21:41:27.801075Z",
     "shell.execute_reply": "2023-06-01T21:41:27.799817Z"
    },
    "papermill": {
     "duration": 2.364578,
     "end_time": "2023-06-01T21:41:27.803274",
     "exception": false,
     "start_time": "2023-06-01T21:41:25.438696",
     "status": "completed"
    },
    "tags": []
   },
   "outputs": [
    {
     "name": "stdout",
     "output_type": "stream",
     "text": [
      "Accuracy with Scaling: 0.4533333333333333\n",
      "Average Cross-Validation Score: 0.48532142857142857\n"
     ]
    }
   ],
   "source": [
    "# Predict the labels of the test set\n",
    "y_pred = rf_scaled.predict(X_test)\n",
    "\n",
    "# Compute and print metrics\n",
    "print('Accuracy with Scaling: {}'.format(rf_scaled.score(X_test, y_test)))\n",
    "\n",
    "# Use cross_val_score\n",
    "cross_val_scores = cross_val_score(pipeline, X, y, cv=5)\n",
    "\n",
    "print(\"Average Cross-Validation Score: {}\".format(np.mean(cross_val_scores)))"
   ]
  },
  {
   "cell_type": "markdown",
   "id": "c5db2002",
   "metadata": {
    "papermill": {
     "duration": 0.006258,
     "end_time": "2023-06-01T21:41:27.815686",
     "exception": false,
     "start_time": "2023-06-01T21:41:27.809428",
     "status": "completed"
    },
    "tags": []
   },
   "source": [
    "A confusion matrix is a table that is used to describe the performance of a classification model (or \"classifier\") on a set of test data for which the true values are known. It is a simple yet very effective way to measure the accuracy of a classifier.\n",
    "\n",
    "The confusion matrix not only gives us the error rates, but also shows the ways in which our model is confused when it makes predictions.\n",
    "\n",
    "Each row in the matrix represents the instances of the actual class while each column represents the instances of the predicted class.\n",
    "\n",
    "The conclusion here is that, even the model not being very precise (only 44% accuracy), the most common kind of mistake is classifing the house 1 group below or above the right class.\n"
   ]
  },
  {
   "cell_type": "code",
   "execution_count": 8,
   "id": "b48bdd20",
   "metadata": {
    "execution": {
     "iopub.execute_input": "2023-06-01T21:41:27.830199Z",
     "iopub.status.busy": "2023-06-01T21:41:27.829278Z",
     "iopub.status.idle": "2023-06-01T21:41:28.520706Z",
     "shell.execute_reply": "2023-06-01T21:41:28.519488Z"
    },
    "papermill": {
     "duration": 0.702076,
     "end_time": "2023-06-01T21:41:28.523843",
     "exception": false,
     "start_time": "2023-06-01T21:41:27.821767",
     "status": "completed"
    },
    "tags": []
   },
   "outputs": [
    {
     "data": {
      "image/png": "[encoded data removed]",
      "text/plain": [
       "<Figure size 1000x700 with 2 Axes>"
      ]
     },
     "metadata": {},
     "output_type": "display_data"
    }
   ],
   "source": [
    "# Calculate confusion matrix\n",
    "cm = confusion_matrix(y_test, y_pred)\n",
    "\n",
    "# Convert cm into a DataFrame\n",
    "cm_df = pd.DataFrame(cm)\n",
    "\n",
    "# Plot confusion matrix\n",
    "plt.figure(figsize=(10,7))\n",
    "sns.heatmap(cm_df, annot=True, cmap='Blues', fmt='g')\n",
    "plt.title('Confusion Matrix')\n",
    "plt.ylabel('Actual')\n",
    "plt.xlabel('Predicted')\n",
    "plt.show()"
   ]
  },
  {
   "cell_type": "markdown",
   "id": "7647a49d",
   "metadata": {
    "papermill": {
     "duration": 0.00809,
     "end_time": "2023-06-01T21:41:28.538864",
     "exception": false,
     "start_time": "2023-06-01T21:41:28.530774",
     "status": "completed"
    },
    "tags": []
   },
   "source": [
    "The Classification report is another way to evaluate the classification model performance. It displays the precision, recall, F1 and support scores for the model. \n",
    "\n",
    "- Precision score means the level of preciseness or certainty in our model while making predictions. \n",
    "- Recall means the amount of the total relevant results correctly classified by our algorithm.\n",
    "- F1 Score is the weighted average of Precision and Recall. \n",
    "- Support is the number of actual occurrences of the class in the specified dataset. \n"
   ]
  },
  {
   "cell_type": "code",
   "execution_count": 9,
   "id": "776a1281",
   "metadata": {
    "execution": {
     "iopub.execute_input": "2023-06-01T21:41:28.557092Z",
     "iopub.status.busy": "2023-06-01T21:41:28.556409Z",
     "iopub.status.idle": "2023-06-01T21:41:28.570444Z",
     "shell.execute_reply": "2023-06-01T21:41:28.569594Z"
    },
    "papermill": {
     "duration": 0.028534,
     "end_time": "2023-06-01T21:41:28.575109",
     "exception": false,
     "start_time": "2023-06-01T21:41:28.546575",
     "status": "completed"
    },
    "tags": []
   },
   "outputs": [
    {
     "name": "stdout",
     "output_type": "stream",
     "text": [
      "              precision    recall  f1-score   support\n",
      "\n",
      "           0       0.67      0.80      0.73        15\n",
      "           1       0.28      0.45      0.34        11\n",
      "           2       0.38      0.36      0.37        22\n",
      "           3       0.17      0.14      0.15        28\n",
      "           4       0.33      0.31      0.32        26\n",
      "           5       0.43      0.43      0.43        23\n",
      "           6       0.50      0.45      0.47        31\n",
      "           7       0.46      0.50      0.48        24\n",
      "           8       0.60      0.55      0.57        22\n",
      "           9       0.74      0.74      0.74        23\n",
      "\n",
      "    accuracy                           0.45       225\n",
      "   macro avg       0.46      0.47      0.46       225\n",
      "weighted avg       0.45      0.45      0.45       225\n",
      "\n"
     ]
    }
   ],
   "source": [
    "# Print classification report\n",
    "print(classification_report(y_test, y_pred))"
   ]
  },
  {
   "cell_type": "markdown",
   "id": "88abb630",
   "metadata": {
    "papermill": {
     "duration": 0.006406,
     "end_time": "2023-06-01T21:41:28.588428",
     "exception": false,
     "start_time": "2023-06-01T21:41:28.582022",
     "status": "completed"
    },
    "tags": []
   },
   "source": [
    "Now, we are going to make price predictions based on each class, this is being done in \"Regression Project (House prices competition 3 of 3)\""
   ]
  }
 ],
 "metadata": {
  "kernelspec": {
   "display_name": "Python 3",
   "language": "python",
   "name": "python3"
  },
  "language_info": {
   "codemirror_mode": {
    "name": "ipython",
    "version": 3
   },
   "file_extension": ".py",
   "mimetype": "text/x-python",
   "name": "python",
   "nbconvert_exporter": "python",
   "pygments_lexer": "ipython3",
   "version": "3.10.10"
  },
  "papermill": {
   "default_parameters": {},
   "duration": 19.239547,
   "end_time": "2023-06-01T21:41:29.617566",
   "environment_variables": {},
   "exception": null,
   "input_path": "__notebook__.ipynb",
   "output_path": "__notebook__.ipynb",
   "parameters": {},
   "start_time": "2023-06-01T21:41:10.378019",
   "version": "2.4.0"
  }
 },
 "nbformat": 4,
 "nbformat_minor": 5
}
