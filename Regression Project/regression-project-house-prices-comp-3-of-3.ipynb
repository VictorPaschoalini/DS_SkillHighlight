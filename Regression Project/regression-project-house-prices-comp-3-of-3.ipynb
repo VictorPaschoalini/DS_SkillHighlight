{
 "cells": [
  {
   "cell_type": "markdown",
   "id": "7a27f2c6",
   "metadata": {
    "papermill": {
     "duration": 0.005395,
     "end_time": "2023-06-02T00:28:36.326073",
     "exception": false,
     "start_time": "2023-06-02T00:28:36.320678",
     "status": "completed"
    },
    "tags": []
   },
   "source": [
    "# House Prices Regression\n",
    "\n",
    "In this project, we aim to predict house prices from various features, such as the area of the house, the number of bedrooms, the neighborhood, and others. We approach this problem in two different ways: a two-step approach where we first classify houses into price groups and then perform regression within each group, and a direct approach where we apply regression to the whole dataset. We use a dataset of house prices from the Kaggle House Prices competition. The goal of this project is not only to build accurate prediction models but also to demonstrate the process of data analysis and model evaluation.\n",
    "\n",
    "This is the third part of a series, in the first one we do EDA, and in the second we explore more in depth how to solve a classification problem.\n",
    "\n",
    "Let's get started!\n"
   ]
  },
  {
   "cell_type": "markdown",
   "id": "3ab26e94",
   "metadata": {
    "papermill": {
     "duration": 0.004689,
     "end_time": "2023-06-02T00:28:36.336248",
     "exception": false,
     "start_time": "2023-06-02T00:28:36.331559",
     "status": "completed"
    },
    "tags": []
   },
   "source": [
    "This part of the code was explained in \"Classification Project (House Prices Comp 2 of 3)\""
   ]
  },
  {
   "cell_type": "code",
   "execution_count": 1,
   "id": "edb4fd47",
   "metadata": {
    "execution": {
     "iopub.execute_input": "2023-06-02T00:28:36.348480Z",
     "iopub.status.busy": "2023-06-02T00:28:36.347953Z",
     "iopub.status.idle": "2023-06-02T00:28:38.287256Z",
     "shell.execute_reply": "2023-06-02T00:28:38.286224Z"
    },
    "papermill": {
     "duration": 1.948566,
     "end_time": "2023-06-02T00:28:38.289785",
     "exception": false,
     "start_time": "2023-06-02T00:28:36.341219",
     "status": "completed"
    },
    "tags": []
   },
   "outputs": [],
   "source": [
    "import numpy as np\n",
    "import pandas as pd\n",
    "from sklearn.model_selection import train_test_split\n",
    "from sklearn.ensemble import RandomForestClassifier\n",
    "from sklearn.metrics import classification_report\n",
    "from sklearn.linear_model import LinearRegression\n",
    "from sklearn.pipeline import Pipeline\n",
    "from sklearn.preprocessing import StandardScaler\n",
    "from sklearn.metrics import mean_squared_error"
   ]
  },
  {
   "cell_type": "code",
   "execution_count": 2,
   "id": "a172fc47",
   "metadata": {
    "execution": {
     "iopub.execute_input": "2023-06-02T00:28:38.301761Z",
     "iopub.status.busy": "2023-06-02T00:28:38.301053Z",
     "iopub.status.idle": "2023-06-02T00:28:38.384453Z",
     "shell.execute_reply": "2023-06-02T00:28:38.383278Z"
    },
    "papermill": {
     "duration": 0.092581,
     "end_time": "2023-06-02T00:28:38.387249",
     "exception": false,
     "start_time": "2023-06-02T00:28:38.294668",
     "status": "completed"
    },
    "tags": []
   },
   "outputs": [],
   "source": [
    "# Load the dataset\n",
    "df = pd.read_csv('/kaggle/input/house-prices-advanced-regression-techniques/train.csv')\n",
    "\n",
    "# For simplicity, we will use only numeric columns\n",
    "df = df.select_dtypes(include=[np.number])\n",
    "df = df.dropna()\n",
    "\n",
    "# Create price categories (10 equal-sized bins)\n",
    "df['SalePrice'] = pd.qcut(df['SalePrice'], q=10, labels=False)\n",
    "\n",
    "# Define the predictors and target\n",
    "X = df.drop('SalePrice', axis=1)\n",
    "y = df['SalePrice']\n",
    "\n",
    "# Split the data into train and test sets\n",
    "X_train, X_test, y_train, y_test = train_test_split(X, y, test_size=0.2, random_state=42)"
   ]
  },
  {
   "cell_type": "code",
   "execution_count": 3,
   "id": "77adab66",
   "metadata": {
    "execution": {
     "iopub.execute_input": "2023-06-02T00:28:38.398667Z",
     "iopub.status.busy": "2023-06-02T00:28:38.398254Z",
     "iopub.status.idle": "2023-06-02T00:28:38.872887Z",
     "shell.execute_reply": "2023-06-02T00:28:38.871846Z"
    },
    "papermill": {
     "duration": 0.48322,
     "end_time": "2023-06-02T00:28:38.875358",
     "exception": false,
     "start_time": "2023-06-02T00:28:38.392138",
     "status": "completed"
    },
    "tags": []
   },
   "outputs": [
    {
     "name": "stdout",
     "output_type": "stream",
     "text": [
      "              precision    recall  f1-score   support\n",
      "\n",
      "           0       0.62      0.67      0.65        15\n",
      "           1       0.11      0.18      0.13        11\n",
      "           2       0.32      0.27      0.29        22\n",
      "           3       0.28      0.25      0.26        28\n",
      "           4       0.38      0.38      0.38        26\n",
      "           5       0.39      0.39      0.39        23\n",
      "           6       0.50      0.39      0.44        31\n",
      "           7       0.46      0.46      0.46        24\n",
      "           8       0.58      0.68      0.62        22\n",
      "           9       0.83      0.83      0.83        23\n",
      "\n",
      "    accuracy                           0.45       225\n",
      "   macro avg       0.45      0.45      0.45       225\n",
      "weighted avg       0.46      0.45      0.45       225\n",
      "\n"
     ]
    }
   ],
   "source": [
    "# Define the classifier\n",
    "classifier = RandomForestClassifier(n_estimators=100, random_state=42)\n",
    "\n",
    "# Train the classifier\n",
    "classifier.fit(X_train, y_train)\n",
    "\n",
    "# Make predictions\n",
    "y_pred = classifier.predict(X_test)\n",
    "\n",
    "# Print the classification report\n",
    "print(classification_report(y_test, y_pred))"
   ]
  },
  {
   "cell_type": "markdown",
   "id": "47e75e28",
   "metadata": {
    "papermill": {
     "duration": 0.004533,
     "end_time": "2023-06-02T00:28:38.884995",
     "exception": false,
     "start_time": "2023-06-02T00:28:38.880462",
     "status": "completed"
    },
    "tags": []
   },
   "source": [
    "Now, we are going to make price predictions based on each class."
   ]
  },
  {
   "cell_type": "markdown",
   "id": "a07c5c57",
   "metadata": {
    "papermill": {
     "duration": 0.004435,
     "end_time": "2023-06-02T00:28:38.894191",
     "exception": false,
     "start_time": "2023-06-02T00:28:38.889756",
     "status": "completed"
    },
    "tags": []
   },
   "source": [
    "After classifying the houses into price groups, we perform linear regression within each group to predict the exact price of a house. This is a two-step approach: first classification, then regression."
   ]
  },
  {
   "cell_type": "code",
   "execution_count": 4,
   "id": "7badc359",
   "metadata": {
    "execution": {
     "iopub.execute_input": "2023-06-02T00:28:38.905988Z",
     "iopub.status.busy": "2023-06-02T00:28:38.905583Z",
     "iopub.status.idle": "2023-06-02T00:28:39.043954Z",
     "shell.execute_reply": "2023-06-02T00:28:39.042823Z"
    },
    "papermill": {
     "duration": 0.147665,
     "end_time": "2023-06-02T00:28:39.046652",
     "exception": false,
     "start_time": "2023-06-02T00:28:38.898987",
     "status": "completed"
    },
    "tags": []
   },
   "outputs": [],
   "source": [
    "# Load the dataset again for regression\n",
    "df_reg = pd.read_csv('/kaggle/input/house-prices-advanced-regression-techniques/train.csv')\n",
    "\n",
    "# For simplicity, we will use only numeric columns\n",
    "df_reg = df_reg.select_dtypes(include=[np.number])\n",
    "df_reg = df_reg.dropna()\n",
    "\n",
    "# Define the predictors and target\n",
    "X_reg = df_reg.drop('SalePrice', axis=1)\n",
    "y_reg = df_reg['SalePrice']\n",
    "\n",
    "# Split the data into train and test sets\n",
    "X_train_reg, X_test_reg, y_train_reg, y_test_reg = train_test_split(X_reg, y_reg, test_size=0.2, random_state=42)\n",
    "\n",
    "# Get the labels of the classes\n",
    "classes = df['SalePrice'].unique()\n",
    "\n",
    "# Dictionary to store the models\n",
    "models = {}\n",
    "\n",
    "# For each class, train a model\n",
    "for class_ in classes:\n",
    "    # Filter the data\n",
    "    mask = y_train == class_\n",
    "    X_train_class = X_train[mask]\n",
    "    y_train_class = y_train_reg[mask]\n",
    "    \n",
    "    # Define the pipeline\n",
    "    steps = [('scaler', StandardScaler()),\n",
    "             ('lr', LinearRegression())]\n",
    "    pipeline = Pipeline(steps)\n",
    "    \n",
    "    # Train the model\n",
    "    model = pipeline.fit(X_train_class, y_train_class)\n",
    "    \n",
    "    # Store the model\n",
    "    models[class_] = model"
   ]
  },
  {
   "cell_type": "markdown",
   "id": "c7e482fd",
   "metadata": {
    "papermill": {
     "duration": 0.004644,
     "end_time": "2023-06-02T00:28:39.056411",
     "exception": false,
     "start_time": "2023-06-02T00:28:39.051767",
     "status": "completed"
    },
    "tags": []
   },
   "source": [
    "In this step, we evaluate the performance of our models. For each price group, we calculate the Root Mean Squared Error (RMSE) between the predicted and actual house prices. The RMSE is a common measure of prediction error in regression problems. Finally, we compute a weighted RMSE to evaluate the overall performance across all price groups."
   ]
  },
  {
   "cell_type": "code",
   "execution_count": 5,
   "id": "6bebcdbe",
   "metadata": {
    "execution": {
     "iopub.execute_input": "2023-06-02T00:28:39.068629Z",
     "iopub.status.busy": "2023-06-02T00:28:39.068229Z",
     "iopub.status.idle": "2023-06-02T00:28:39.113661Z",
     "shell.execute_reply": "2023-06-02T00:28:39.112107Z"
    },
    "papermill": {
     "duration": 0.055087,
     "end_time": "2023-06-02T00:28:39.116385",
     "exception": false,
     "start_time": "2023-06-02T00:28:39.061298",
     "status": "completed"
    },
    "tags": []
   },
   "outputs": [
    {
     "name": "stdout",
     "output_type": "stream",
     "text": [
      "Class: 7 RMSE: 10449.895523577286\n",
      "Class: 6 RMSE: 7878.869140890224\n",
      "Class: 3 RMSE: 4120.306745904547\n",
      "Class: 8 RMSE: 37480.826988836656\n",
      "Class: 9 RMSE: 56350.64879297594\n",
      "Class: 2 RMSE: 3277.9051931666168\n",
      "Class: 1 RMSE: 5678.313326125489\n",
      "Class: 0 RMSE: 11410.591603765497\n",
      "Class: 4 RMSE: 5082.277810929216\n",
      "Class: 5 RMSE: 5533.56819435699\n",
      "Weighted RMSE: 14649.776298931249\n"
     ]
    }
   ],
   "source": [
    "# List to store the RMSEs and weights for each class\n",
    "rmse_list = []\n",
    "weights_list = []\n",
    "\n",
    "# For each class, predict and calculate metrics\n",
    "for class_ in classes:\n",
    "    # Filter the data\n",
    "    mask = y_test == class_\n",
    "    X_test_class = X_test[mask]\n",
    "    y_test_class = y_test_reg[mask]\n",
    "    \n",
    "    # Predict\n",
    "    y_pred_class = models[class_].predict(X_test_class)\n",
    "    \n",
    "    # Calculate and print metrics\n",
    "    rmse = np.sqrt(mean_squared_error(y_test_class, y_pred_class))\n",
    "    print('Class:', class_, 'RMSE:', rmse)\n",
    "    \n",
    "    # Append the RMSE and the weight to the lists\n",
    "    rmse_list.append(rmse)\n",
    "    weights_list.append(len(y_test_class))\n",
    "\n",
    "# Convert the lists to arrays\n",
    "rmse_array = np.array(rmse_list)\n",
    "weights_array = np.array(weights_list)\n",
    "\n",
    "# Calculate the weighted average\n",
    "rmse_weighted = np.average(rmse_array, weights=weights_array)\n",
    "print('Weighted RMSE:', rmse_weighted)"
   ]
  },
  {
   "cell_type": "markdown",
   "id": "7d4c03bc",
   "metadata": {
    "papermill": {
     "duration": 0.00481,
     "end_time": "2023-06-02T00:28:39.127975",
     "exception": false,
     "start_time": "2023-06-02T00:28:39.123165",
     "status": "completed"
    },
    "tags": []
   },
   "source": [
    "Finally, we train a linear regression model to predict house prices directly, without classifying them into price groups first. This gives us a baseline to compare the performance of our two-step approach."
   ]
  },
  {
   "cell_type": "code",
   "execution_count": 6,
   "id": "bbddb12d",
   "metadata": {
    "execution": {
     "iopub.execute_input": "2023-06-02T00:28:39.140230Z",
     "iopub.status.busy": "2023-06-02T00:28:39.139431Z",
     "iopub.status.idle": "2023-06-02T00:28:39.158939Z",
     "shell.execute_reply": "2023-06-02T00:28:39.157144Z"
    },
    "papermill": {
     "duration": 0.03016,
     "end_time": "2023-06-02T00:28:39.163233",
     "exception": false,
     "start_time": "2023-06-02T00:28:39.133073",
     "status": "completed"
    },
    "tags": []
   },
   "outputs": [],
   "source": [
    "# Define the pipeline\n",
    "steps = [('scaler', StandardScaler()),\n",
    "         ('lr', LinearRegression())]\n",
    "pipeline = Pipeline(steps)\n",
    "\n",
    "# Train the model\n",
    "model_reg = pipeline.fit(X_train_reg, y_train_reg)"
   ]
  },
  {
   "cell_type": "code",
   "execution_count": 7,
   "id": "4d2ee8cb",
   "metadata": {
    "execution": {
     "iopub.execute_input": "2023-06-02T00:28:39.186926Z",
     "iopub.status.busy": "2023-06-02T00:28:39.186240Z",
     "iopub.status.idle": "2023-06-02T00:28:39.201039Z",
     "shell.execute_reply": "2023-06-02T00:28:39.199868Z"
    },
    "papermill": {
     "duration": 0.030801,
     "end_time": "2023-06-02T00:28:39.204711",
     "exception": false,
     "start_time": "2023-06-02T00:28:39.173910",
     "status": "completed"
    },
    "tags": []
   },
   "outputs": [
    {
     "name": "stdout",
     "output_type": "stream",
     "text": [
      "RMSE: 39869.514607966565\n"
     ]
    }
   ],
   "source": [
    "# Predict\n",
    "y_pred_reg = model_reg.predict(X_test_reg)\n",
    "\n",
    "# Calculate and print metrics\n",
    "rmse = np.sqrt(mean_squared_error(y_test_reg, y_pred_reg))\n",
    "print('RMSE:', rmse)"
   ]
  },
  {
   "cell_type": "markdown",
   "id": "755e025f",
   "metadata": {
    "papermill": {
     "duration": 0.009999,
     "end_time": "2023-06-02T00:28:39.225439",
     "exception": false,
     "start_time": "2023-06-02T00:28:39.215440",
     "status": "completed"
    },
    "tags": []
   },
   "source": [
    "Comparing both results:\n",
    "\n",
    "Using the 10 classes of prices --> RMSE: 14649.776298931249\n",
    "\n",
    "Using all house prices directly --> RMSE: 39869.514607966565\n",
    "\n",
    "Using the classes we get much better results, by almost 25,000 USD better valuations.\n",
    "\n",
    "A likely reason for this is that by partitioning the houses into different price groups, we essentially created a stratified dataset where each group represents houses with similar characteristics and, more importantly, similar prices. This could help the model to better understand the price distribution within each group and hence make more accurate predictions. This stratification might have reduced the inherent complexity and heterogeneity within the data, hence providing the model with a clearer signal to learn from.\n",
    "\n",
    "On the other hand, the single regression model has to deal with the entire spectrum of house prices and their corresponding characteristics all at once. This might make it more challenging for the model to accurately capture the relationships between the features and the target variable, especially if the relationships are non-linear or if they change across different price ranges.\n",
    "\n",
    "As such, these findings suggest that when dealing with complex and heterogeneous data, it might be beneficial to partition the data into more homogenous groups and train separate models for each group. This can potentially lead to more accurate and robust predictions.\n",
    "\n",
    "\n",
    "\n",
    "To clarify this concept further, envision that the prices of less expensive houses are influenced predominantly by features such as the total area and construction year. As we progress to more costly houses, the presence and attributes of a swimming pool may bear more influence on the price (please note this is hypothetical, a more detailed analysis of the data would be required to confirm these assertions, for which a simple groupby operation might suffice). When we conduct regression analysis by class, these subtle variations within each category are accounted for. On the contrary, a model built on the entire dataset may overemphasize less impactful features or conversely, fail to assign adequate importance to crucial characteristics, resulting in suboptimal predictions.\n"
   ]
  }
 ],
 "metadata": {
  "kernelspec": {
   "display_name": "Python 3",
   "language": "python",
   "name": "python3"
  },
  "language_info": {
   "codemirror_mode": {
    "name": "ipython",
    "version": 3
   },
   "file_extension": ".py",
   "mimetype": "text/x-python",
   "name": "python",
   "nbconvert_exporter": "python",
   "pygments_lexer": "ipython3",
   "version": "3.10.10"
  },
  "papermill": {
   "default_parameters": {},
   "duration": 16.71316,
   "end_time": "2023-06-02T00:28:40.268671",
   "environment_variables": {},
   "exception": null,
   "input_path": "__notebook__.ipynb",
   "output_path": "__notebook__.ipynb",
   "parameters": {},
   "start_time": "2023-06-02T00:28:23.555511",
   "version": "2.4.0"
  }
 },
 "nbformat": 4,
 "nbformat_minor": 5
}
